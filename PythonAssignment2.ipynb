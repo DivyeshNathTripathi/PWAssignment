{
  "nbformat": 4,
  "nbformat_minor": 0,
  "metadata": {
    "colab": {
      "provenance": []
    },
    "kernelspec": {
      "name": "python3",
      "display_name": "Python 3"
    },
    "language_info": {
      "name": "python"
    }
  },
  "cells": [
    {
      "cell_type": "markdown",
      "source": [
        "Name :- Divyesh Nath Tripathi"
      ],
      "metadata": {
        "id": "ThlveChSpgG3"
      }
    },
    {
      "cell_type": "markdown",
      "source": [
        "Q1: Which keyword is used to create a function? Create a function to return a list of odd numbers in the range of 1 to 25.\n",
        "\n",
        "Answer: The def keyword is used to create a function in Python. Here's a function to return the list of odd numbers:"
      ],
      "metadata": {
        "id": "tHipSBhZoAma"
      }
    },
    {
      "cell_type": "code",
      "source": [
        "def odd_numbers():\n",
        "    return [num for num in range(1, 26) if num % 2 != 0]\n",
        "\n",
        "print(odd_numbers())\n"
      ],
      "metadata": {
        "colab": {
          "base_uri": "https://localhost:8080/"
        },
        "id": "YiFzKlOeoEPa",
        "outputId": "f3b1f77d-e6bf-41f2-edb3-f1b51e97bd90"
      },
      "execution_count": 1,
      "outputs": [
        {
          "output_type": "stream",
          "name": "stdout",
          "text": [
            "[1, 3, 5, 7, 9, 11, 13, 15, 17, 19, 21, 23, 25]\n"
          ]
        }
      ]
    },
    {
      "cell_type": "markdown",
      "source": [
        "Q2: Why *args and **kwargs are used in some functions? Create a function each for *args and **kwargs to demonstrate their use.\n",
        "Answer:\n",
        "*args is used to pass a variable number of positional arguments to a function.\n",
        "**kwargs is used to pass a variable number of keyword arguments to a function."
      ],
      "metadata": {
        "id": "h1PHjb_EoRkD"
      }
    },
    {
      "cell_type": "code",
      "source": [
        "# Function using *args\n",
        "def sum_numbers(*args):\n",
        "    return sum(args)\n",
        "\n",
        "print(sum_numbers(1, 2, 3, 4, 5))\n",
        "\n",
        "# Function using **kwargs\n",
        "def print_details(**kwargs):\n",
        "    for key, value in kwargs.items():\n",
        "        print(f\"{key}: {value}\")\n",
        "\n",
        "print_details(Name=\"Alice\", Age=25, City=\"New York\")\n"
      ],
      "metadata": {
        "colab": {
          "base_uri": "https://localhost:8080/"
        },
        "id": "dWqtfxLpoXj-",
        "outputId": "372363c9-4fad-4fb6-ab47-2207364d1f90"
      },
      "execution_count": 2,
      "outputs": [
        {
          "output_type": "stream",
          "name": "stdout",
          "text": [
            "15\n",
            "Name: Alice\n",
            "Age: 25\n",
            "City: New York\n"
          ]
        }
      ]
    },
    {
      "cell_type": "markdown",
      "source": [
        "Q3: What is an iterator in Python? Name the method used to initialize the iterator object and the method used for iteration. Use these methods to print the first five elements of the given list [2, 4, 6, 8, 10, 12, 14, 16, 18, 20].\n",
        "\n",
        "Answer:\n",
        "An iterator is an object that can be iterated upon.\n",
        "iter() is used to initialize an iterator, and next() is used for iteration."
      ],
      "metadata": {
        "id": "Sq4wi0tSocK2"
      }
    },
    {
      "cell_type": "code",
      "source": [
        "nums = [2, 4, 6, 8, 10, 12, 14, 16, 18, 20]\n",
        "iterator = iter(nums)\n",
        "for _ in range(5):\n",
        "    print(next(iterator))\n"
      ],
      "metadata": {
        "colab": {
          "base_uri": "https://localhost:8080/"
        },
        "id": "7M12GOseooDF",
        "outputId": "3603f5d3-ca1f-4346-b179-10b4e69cebb7"
      },
      "execution_count": 3,
      "outputs": [
        {
          "output_type": "stream",
          "name": "stdout",
          "text": [
            "2\n",
            "4\n",
            "6\n",
            "8\n",
            "10\n"
          ]
        }
      ]
    },
    {
      "cell_type": "markdown",
      "source": [
        "Q4: What is a generator function in Python? Why is the yield keyword used? Give an example of a generator function.\n",
        "\n",
        "Answer:\n",
        "A generator function in Python is used to return an iterator. It uses yield to produce a series of values instead of returning them all at once."
      ],
      "metadata": {
        "id": "tin_DnWwosuP"
      }
    },
    {
      "cell_type": "code",
      "source": [
        "def square_numbers(n):\n",
        "    for i in range(n):\n",
        "        yield i ** 2\n",
        "\n",
        "squares = square_numbers(5)\n",
        "for square in squares:\n",
        "    print(square)\n"
      ],
      "metadata": {
        "colab": {
          "base_uri": "https://localhost:8080/"
        },
        "id": "X-5nGBMcoywn",
        "outputId": "27b46835-a6bb-4ade-85d4-f537f2c49003"
      },
      "execution_count": 4,
      "outputs": [
        {
          "output_type": "stream",
          "name": "stdout",
          "text": [
            "0\n",
            "1\n",
            "4\n",
            "9\n",
            "16\n"
          ]
        }
      ]
    },
    {
      "cell_type": "markdown",
      "source": [
        "Q5: Create a generator function for prime numbers less than 1000. Use the next() method to print the first 20 prime numbers.\n",
        "\n",
        "Answer:"
      ],
      "metadata": {
        "id": "a9EnvHuto2pi"
      }
    },
    {
      "cell_type": "code",
      "source": [
        "def prime_numbers():\n",
        "    for num in range(2, 1000):\n",
        "        if all(num % i != 0 for i in range(2, int(num**0.5) + 1)):\n",
        "            yield num\n",
        "\n",
        "primes = prime_numbers()\n",
        "for _ in range(20):\n",
        "    print(next(primes))\n"
      ],
      "metadata": {
        "colab": {
          "base_uri": "https://localhost:8080/"
        },
        "id": "w4pCgRUOo6c5",
        "outputId": "78f38a20-9623-4dea-890a-5ef21471c14a"
      },
      "execution_count": 5,
      "outputs": [
        {
          "output_type": "stream",
          "name": "stdout",
          "text": [
            "2\n",
            "3\n",
            "5\n",
            "7\n",
            "11\n",
            "13\n",
            "17\n",
            "19\n",
            "23\n",
            "29\n",
            "31\n",
            "37\n",
            "41\n",
            "43\n",
            "47\n",
            "53\n",
            "59\n",
            "61\n",
            "67\n",
            "71\n"
          ]
        }
      ]
    },
    {
      "cell_type": "markdown",
      "source": [
        "Q6: Write a Python program to print the first 10 Fibonacci numbers using a while loop.\n",
        "\n",
        "Answer:"
      ],
      "metadata": {
        "id": "WlygNWXqo-TN"
      }
    },
    {
      "cell_type": "code",
      "source": [
        "a, b = 0, 1\n",
        "count = 0\n",
        "while count < 10:\n",
        "    print(a)\n",
        "    a, b = b, a + b\n",
        "    count += 1\n"
      ],
      "metadata": {
        "colab": {
          "base_uri": "https://localhost:8080/"
        },
        "id": "KrI8d5ezo_ZZ",
        "outputId": "439db6d7-f470-45f4-b724-6e2d9a90be37"
      },
      "execution_count": 6,
      "outputs": [
        {
          "output_type": "stream",
          "name": "stdout",
          "text": [
            "0\n",
            "1\n",
            "1\n",
            "2\n",
            "3\n",
            "5\n",
            "8\n",
            "13\n",
            "21\n",
            "34\n"
          ]
        }
      ]
    },
    {
      "cell_type": "markdown",
      "source": [
        "Q7: Write a List Comprehension to iterate through the string 'pwskills'.\n",
        "\n",
        "Answer:"
      ],
      "metadata": {
        "id": "iQBvmgEBpCd7"
      }
    },
    {
      "cell_type": "code",
      "source": [
        "string = 'pwskills'\n",
        "output = [char for char in string]\n",
        "print(output)\n"
      ],
      "metadata": {
        "colab": {
          "base_uri": "https://localhost:8080/"
        },
        "id": "2SQ1WaXZpGgw",
        "outputId": "31fd2460-f372-47d1-edd0-2516c8b2bc01"
      },
      "execution_count": 7,
      "outputs": [
        {
          "output_type": "stream",
          "name": "stdout",
          "text": [
            "['p', 'w', 's', 'k', 'i', 'l', 'l', 's']\n"
          ]
        }
      ]
    },
    {
      "cell_type": "markdown",
      "source": [
        "Q8: Write a Python program to check whether a given number is a Palindrome or not using a while loop.\n",
        "\n",
        "Answer:"
      ],
      "metadata": {
        "id": "dF48RBgepLHF"
      }
    },
    {
      "cell_type": "code",
      "source": [
        "def is_palindrome(num):\n",
        "    original = str(num)\n",
        "    reverse = original[::-1]\n",
        "    return original == reverse\n",
        "\n",
        "number = 121\n",
        "print(f\"{number} is a palindrome: {is_palindrome(number)}\")\n"
      ],
      "metadata": {
        "colab": {
          "base_uri": "https://localhost:8080/"
        },
        "id": "zXyAz4OapPw2",
        "outputId": "a288732c-67fc-49f8-ca9f-691e3af859bf"
      },
      "execution_count": 8,
      "outputs": [
        {
          "output_type": "stream",
          "name": "stdout",
          "text": [
            "121 is a palindrome: True\n"
          ]
        }
      ]
    },
    {
      "cell_type": "markdown",
      "source": [
        "Q9: Write a code to print odd numbers from 1 to 100 using list comprehension.\n",
        "\n",
        "Answer:"
      ],
      "metadata": {
        "id": "M8spyT5OpSKo"
      }
    },
    {
      "cell_type": "code",
      "source": [
        "# Create a list from 1 to 100\n",
        "numbers = [num for num in range(1, 101)]\n",
        "# Filter odd numbers\n",
        "odd_numbers = [num for num in numbers if num % 2 != 0]\n",
        "print(odd_numbers)\n"
      ],
      "metadata": {
        "colab": {
          "base_uri": "https://localhost:8080/"
        },
        "id": "4U5ohlJNpWx9",
        "outputId": "c0b65cb5-e146-4cc8-cb71-33a078cb8e32"
      },
      "execution_count": 9,
      "outputs": [
        {
          "output_type": "stream",
          "name": "stdout",
          "text": [
            "[1, 3, 5, 7, 9, 11, 13, 15, 17, 19, 21, 23, 25, 27, 29, 31, 33, 35, 37, 39, 41, 43, 45, 47, 49, 51, 53, 55, 57, 59, 61, 63, 65, 67, 69, 71, 73, 75, 77, 79, 81, 83, 85, 87, 89, 91, 93, 95, 97, 99]\n"
          ]
        }
      ]
    }
  ]
}